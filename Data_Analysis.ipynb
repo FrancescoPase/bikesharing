{
 "cells": [
  {
   "cell_type": "code",
   "execution_count": null,
   "metadata": {},
   "outputs": [],
   "source": [
    "import numpy as np\n",
    "import pandas as pd\n",
    "import networkx as nx\n",
    "import matplotlib.pyplot as plt\n",
    "import pickle"
   ]
  },
  {
   "cell_type": "code",
   "execution_count": null,
   "metadata": {},
   "outputs": [],
   "source": [
    "df = pd.read_csv('./data/202003-citibike-tripdata.csv')\n",
    "n_start_station = len(df['start station id'].unique())\n",
    "n_end_station = len(df['end station id'].unique())\n"
   ]
  },
  {
   "cell_type": "code",
   "execution_count": null,
   "metadata": {},
   "outputs": [],
   "source": [
    "total_station_id = set(df['start station id']).union(set(df['end station id']))\n",
    "n_tot_station = len(total_station_id)"
   ]
  },
  {
   "cell_type": "code",
   "execution_count": null,
   "metadata": {},
   "outputs": [],
   "source": [
    "id_index = dict(zip(sorted(total_station_id), np.arange(n_tot_station)))"
   ]
  },
  {
   "cell_type": "code",
   "execution_count": null,
   "metadata": {},
   "outputs": [],
   "source": [
    "df.head()"
   ]
  },
  {
   "cell_type": "markdown",
   "metadata": {},
   "source": [
    "# Location Parser #"
   ]
  },
  {
   "cell_type": "code",
   "execution_count": null,
   "metadata": {},
   "outputs": [],
   "source": [
    "useful = [3, 5, 6, 7, 9, 10]\n",
    "df.iloc[:,useful]"
   ]
  },
  {
   "cell_type": "markdown",
   "metadata": {},
   "source": [
    "# Parser #"
   ]
  },
  {
   "cell_type": "code",
   "execution_count": null,
   "metadata": {},
   "outputs": [],
   "source": [
    "useful = [1, 0, 3, 7, 11, 13, 14]\n",
    "df.iloc[:,useful]"
   ]
  },
  {
   "cell_type": "markdown",
   "metadata": {},
   "source": [
    "# Util Functions #"
   ]
  },
  {
   "cell_type": "code",
   "execution_count": null,
   "metadata": {},
   "outputs": [],
   "source": [
    "# Find indexes to extract daily rides\n",
    "\n",
    "def days_index():\n",
    "    d_i = {}\n",
    "    for index, row in df.iterrows():\n",
    "        day = int(row['starttime'].split()[0].split('-')[2])\n",
    "        if d_i.get(day) is None:\n",
    "            d_i[day] = index\n",
    "    return d_i"
   ]
  },
  {
   "cell_type": "code",
   "execution_count": null,
   "metadata": {},
   "outputs": [],
   "source": [
    "# Dictionary with days starting indexes\n",
    "\"\"\"d = days_index()\n",
    "with open('./data/variables/march_index.pickle', 'wb') as file:\n",
    "    pickle.dump(d, file)\"\"\"\n"
   ]
  },
  {
   "cell_type": "markdown",
   "metadata": {},
   "source": [
    "# MARCH #"
   ]
  },
  {
   "cell_type": "code",
   "execution_count": null,
   "metadata": {},
   "outputs": [],
   "source": [
    "# Load day indexes for March\n",
    "with open('./data/variables/march_index.pickle', 'rb') as file:\n",
    "    d = pickle.load(file)"
   ]
  },
  {
   "cell_type": "markdown",
   "metadata": {},
   "source": [
    "## 2st-6th of March ##"
   ]
  },
  {
   "cell_type": "code",
   "execution_count": null,
   "metadata": {},
   "outputs": [],
   "source": [
    "# 2 -> Monday\n",
    "# Choose day \n",
    "days = [2, 3, 4, 5, 6]\n",
    "\n",
    "# Find all connections with weights\n",
    "adj_2_6 = np.zeros((n_tot_station, n_tot_station))\n",
    "for day in days:\n",
    "    for index, row in df.iloc[d[day]:d[day+1]].iterrows():\n",
    "        adj_2_6[id_index[row['start station id']], id_index[row['end station id']]] += 1\n",
    "        adj_2_6[id_index[row['end station id']], id_index[row['start station id']]] +=1\n",
    "    print('Day {} loaded...'.format(day))\n",
    "    "
   ]
  },
  {
   "cell_type": "code",
   "execution_count": null,
   "metadata": {},
   "outputs": [],
   "source": [
    "print(\"Total number of rides : {}\".format(np.sum(adj_2_6) / 2))"
   ]
  },
  {
   "cell_type": "code",
   "execution_count": null,
   "metadata": {},
   "outputs": [],
   "source": [
    "adj_2_6[adj_2_6 > 0] = 1\n",
    "print(\"Unweighted number of rides : {}\".format(np.sum(adj_2_6) / 2))"
   ]
  },
  {
   "cell_type": "code",
   "execution_count": null,
   "metadata": {},
   "outputs": [],
   "source": [
    "# Create Undirected graph \n",
    "g_2_6 = nx.from_numpy_matrix(adj_2_6)\n",
    "degs_2_6 = np.array([x[1] for x in g_2_6.degree])\n",
    "_ = plt.hist(degs_2_6)"
   ]
  },
  {
   "cell_type": "code",
   "execution_count": null,
   "metadata": {},
   "outputs": [],
   "source": [
    "plt.scatter(np.arange(n_tot_station), degs_2_6)"
   ]
  },
  {
   "cell_type": "markdown",
   "metadata": {},
   "source": [
    "## 9th-13th of March ##"
   ]
  },
  {
   "cell_type": "code",
   "execution_count": null,
   "metadata": {},
   "outputs": [],
   "source": [
    "# 9 -> Monday\n",
    "# Choose day \n",
    "days = [9, 10, 11, 12, 13]\n",
    "\n",
    "# Find all connections with weights\n",
    "adj_9_13 = np.zeros((n_tot_station, n_tot_station))\n",
    "for day in days:\n",
    "    for index, row in df.iloc[d[day]:d[day+1]].iterrows():\n",
    "        adj_9_13[id_index[row['start station id']], id_index[row['end station id']]] += 1\n",
    "        adj_9_13[id_index[row['end station id']], id_index[row['start station id']]] += 1\n",
    "    print('Day {} loaded...'.format(day))\n",
    "    "
   ]
  },
  {
   "cell_type": "code",
   "execution_count": null,
   "metadata": {},
   "outputs": [],
   "source": [
    "print(\"Total number of rides : {}\".format(np.sum(adj_9_13) / 2))"
   ]
  },
  {
   "cell_type": "code",
   "execution_count": null,
   "metadata": {},
   "outputs": [],
   "source": [
    "adj_9_13[adj_9_13 > 0] = 1\n",
    "print(\"Unweighted number of rides : {}\".format(np.sum(adj_9_13) / 2))"
   ]
  },
  {
   "cell_type": "code",
   "execution_count": null,
   "metadata": {},
   "outputs": [],
   "source": [
    "# Create Undirected graph \n",
    "g_9_13 = nx.from_numpy_matrix(adj_9_13)\n",
    "degs_9_13 = np.array([x[1] for x in g_9_13.degree])\n",
    "_ = plt.hist(degs_9_13)"
   ]
  },
  {
   "cell_type": "code",
   "execution_count": null,
   "metadata": {},
   "outputs": [],
   "source": [
    "plt.scatter(np.arange(n_tot_station), degs_9_13)"
   ]
  },
  {
   "cell_type": "markdown",
   "metadata": {},
   "source": [
    "## 16th-20th of March ##"
   ]
  },
  {
   "cell_type": "code",
   "execution_count": null,
   "metadata": {},
   "outputs": [],
   "source": [
    "# 16 -> Monday\n",
    "# Choose day \n",
    "days = [16, 17, 18, 19, 20]\n",
    "\n",
    "# Find all connections with weights\n",
    "adj_16_20 = np.zeros((n_tot_station, n_tot_station))\n",
    "for day in days:\n",
    "    for index, row in df.iloc[d[day]:d[day+1]].iterrows():\n",
    "        adj_16_20[id_index[row['start station id']], id_index[row['end station id']]] += 1\n",
    "        adj_16_20[id_index[row['end station id']], id_index[row['start station id']]] += 1\n",
    "    print('Day {} loaded...'.format(day))\n",
    "    "
   ]
  },
  {
   "cell_type": "code",
   "execution_count": null,
   "metadata": {},
   "outputs": [],
   "source": [
    "print(\"Total number of rides : {}\".format(np.sum(adj_16_20) / 2))"
   ]
  },
  {
   "cell_type": "code",
   "execution_count": null,
   "metadata": {},
   "outputs": [],
   "source": [
    "adj_16_20[adj_16_20 > 0] = 1\n",
    "print(\"Unweighted number of rides : {}\".format(np.sum(adj_16_20) / 2))"
   ]
  },
  {
   "cell_type": "code",
   "execution_count": null,
   "metadata": {},
   "outputs": [],
   "source": [
    "# Create Undirected graph \n",
    "g_16_20 = nx.from_numpy_matrix(adj_16_20)\n",
    "degs_16_20 = np.array([x[1] for x in g_16_20.degree])\n",
    "_ = plt.hist(degs_16_20)"
   ]
  },
  {
   "cell_type": "code",
   "execution_count": null,
   "metadata": {},
   "outputs": [],
   "source": [
    "plt.scatter(np.arange(n_tot_station), degs_16_20)"
   ]
  },
  {
   "cell_type": "markdown",
   "metadata": {},
   "source": [
    "## 23st-27th of March ##"
   ]
  },
  {
   "cell_type": "code",
   "execution_count": null,
   "metadata": {},
   "outputs": [],
   "source": [
    "# 23 -> Monday\n",
    "# Choose day \n",
    "days = [23, 24, 25, 26, 27]\n",
    "\n",
    "# Find all connections with weights\n",
    "adj_23_27 = np.zeros((n_tot_station, n_tot_station))\n",
    "for day in days:\n",
    "    for index, row in df.iloc[d[day]:d[day+1]].iterrows():\n",
    "        adj_23_27[id_index[row['start station id']], id_index[row['end station id']]] += 1\n",
    "        adj_23_27[id_index[row['end station id']], id_index[row['start station id']]] += 1\n",
    "    print('Day {} loaded...'.format(day))\n",
    "    "
   ]
  },
  {
   "cell_type": "code",
   "execution_count": null,
   "metadata": {},
   "outputs": [],
   "source": [
    "print(\"Total number of rides : {}\".format(np.sum(adj_23_27) / 2))"
   ]
  },
  {
   "cell_type": "code",
   "execution_count": null,
   "metadata": {},
   "outputs": [],
   "source": [
    "adj_23_27[adj_23_27 > 0] = 1\n",
    "print(\"Unweighted number of rides : {}\".format(np.sum(adj_23_27) / 2))"
   ]
  },
  {
   "cell_type": "code",
   "execution_count": null,
   "metadata": {},
   "outputs": [],
   "source": [
    "# Create Undirected graph \n",
    "g_23_27 = nx.from_numpy_matrix(adj_23_27)\n",
    "degs_23_27 = np.array([x[1] for x in g_23_27.degree])\n",
    "_ = plt.hist(degs_23_27)"
   ]
  },
  {
   "cell_type": "code",
   "execution_count": null,
   "metadata": {},
   "outputs": [],
   "source": [
    "plt.scatter(np.arange(n_tot_station), degs_23_27)"
   ]
  },
  {
   "cell_type": "markdown",
   "metadata": {},
   "source": [
    "## Sorted ##"
   ]
  },
  {
   "cell_type": "code",
   "execution_count": null,
   "metadata": {},
   "outputs": [],
   "source": [
    "sort_deg = np.argsort(degs_2_6)"
   ]
  },
  {
   "cell_type": "code",
   "execution_count": null,
   "metadata": {},
   "outputs": [],
   "source": [
    "plt.scatter(np.arange(n_tot_station), degs_2_6[sort_deg])"
   ]
  },
  {
   "cell_type": "code",
   "execution_count": null,
   "metadata": {},
   "outputs": [],
   "source": [
    "plt.scatter(np.arange(n_tot_station), degs_9_13[sort_deg])"
   ]
  },
  {
   "cell_type": "code",
   "execution_count": null,
   "metadata": {},
   "outputs": [],
   "source": [
    "plt.scatter(np.arange(n_tot_station), degs_16_20[sort_deg])"
   ]
  },
  {
   "cell_type": "code",
   "execution_count": null,
   "metadata": {},
   "outputs": [],
   "source": [
    "plt.scatter(np.arange(n_tot_station), degs_23_27[sort_deg])"
   ]
  },
  {
   "cell_type": "code",
   "execution_count": null,
   "metadata": {},
   "outputs": [],
   "source": [
    "id_index[3919]"
   ]
  },
  {
   "cell_type": "code",
   "execution_count": null,
   "metadata": {},
   "outputs": [],
   "source": [
    "df[df['start station id'] == 3919]"
   ]
  },
  {
   "cell_type": "code",
   "execution_count": null,
   "metadata": {},
   "outputs": [],
   "source": [
    "degs_2_6[898]"
   ]
  },
  {
   "cell_type": "code",
   "execution_count": null,
   "metadata": {},
   "outputs": [],
   "source": [
    "degs_9_13[898]"
   ]
  },
  {
   "cell_type": "code",
   "execution_count": null,
   "metadata": {},
   "outputs": [],
   "source": [
    "degs_16_20[898]"
   ]
  },
  {
   "cell_type": "code",
   "execution_count": null,
   "metadata": {},
   "outputs": [],
   "source": [
    "degs_23_27[898]"
   ]
  },
  {
   "cell_type": "code",
   "execution_count": null,
   "metadata": {},
   "outputs": [],
   "source": []
  }
 ],
 "metadata": {
  "kernelspec": {
   "display_name": "thesis",
   "language": "python",
   "name": "thesis"
  },
  "language_info": {
   "codemirror_mode": {
    "name": "ipython",
    "version": 3
   },
   "file_extension": ".py",
   "mimetype": "text/x-python",
   "name": "python",
   "nbconvert_exporter": "python",
   "pygments_lexer": "ipython3",
   "version": "3.7.6"
  }
 },
 "nbformat": 4,
 "nbformat_minor": 2
}
